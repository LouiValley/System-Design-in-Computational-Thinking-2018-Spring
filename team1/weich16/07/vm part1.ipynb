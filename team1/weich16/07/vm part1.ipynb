{
 "cells": [
  {
   "cell_type": "code",
   "execution_count": null,
   "metadata": {},
   "outputs": [],
   "source": [
    "import re\n",
    "import os"
   ]
  },
  {
   "cell_type": "code",
   "execution_count": null,
   "metadata": {},
   "outputs": [],
   "source": [
    "def init(input):\n",
    "    list_vm = []\n",
    "    if '.' in input:\n",
    "        if input == '.\\.vm$':\n",
    "            try:\n",
    "                list_vm.append(open(input,'r'))\n",
    "            except IOError,e:\n",
    "                print('No VM file found!')\n",
    "    else:\n",
    "        try:\n",
    "            dirList = os.listdir(input)\n",
    "            for each in dirList:\n",
    "                if each == '.\\.vm$':\n",
    "                    list_vm.append(open(input + each,'r'))\n",
    "            except IOError,e:\n",
    "                print('No VM file found!')\n",
    "    return list_vm"
   ]
  },
  {
   "cell_type": "code",
   "execution_count": null,
   "metadata": {},
   "outputs": [],
   "source": [
    "class Paser:\n",
    "    def __init__(self,fp):\n",
    "        self.fp = fp\n",
    "        self.filename = file.strip().split('.')[0]\n",
    "        self.fw = open(self.filename + '.asm', 'w')\n",
    "        self.flag = True\n",
    "        self.count = 0\n",
    "        self.algorithm_list = ['add','sub','neg','eq','gt','lt','and','or','not']\n",
    "        \n",
    "    def hasMoreCommands(self):\n",
    "        self.line = self.fp.readline()\n",
    "        if self.line :return True\n",
    "        else:\n",
    "            self.flag = False\n",
    "            return False\n",
    "\n",
    "    def advance(self):\n",
    "        if self.hasMoreCommands():\n",
    "            self.cur = self.line.strip().split('/')[0].strip()\n",
    "            while len(self.cur)== 0 or self.cur[0] == '/': self.advance()\n",
    "                \n",
    "    def commandType(self):\n",
    "        judge = [each for each in self.algorithm_list in self.cur]\n",
    "        if len(judge): return 'C_ARITHMETIC'\n",
    "        if 'push' in self.cur: return 'C_PUSH'\n",
    "        if 'pop' in self.cur: return 'C_POP'\n",
    "        if 'label' in self.cur: return 'C_LABEL'\n",
    "        if 'goto' in self.cur: return 'C_GOTO'\n",
    "        if 'if-goto' in self.cur: return 'C_IF'\n",
    "        if 'function' in self.cur: return 'C_FUNCTION'\n",
    "        if 'return' in self.cur: return 'C_RETURN'\n",
    "        if 'call' in self.cur: return 'C_CALL'\n",
    "    \n",
    "    def arg1(self):\n",
    "        if self.commandType() == 'C_ARITHMETIC': return self.cur\n",
    "        if self.commandType() == 'C_PUSH': return self.cur.split()[1]\n",
    "        if self.commandType() == 'C_POP': return self.cur.split()[1]\n",
    "        if self.commandType() == 'C_LABEL': return self.cur.split()[1]\n",
    "        if self.commandType() == 'C_GOTO': return self.cur.split()[1]\n",
    "        if self.commandType() == 'C_IF': return self.cur.split()[1]\n",
    "        if self.commandType() == 'C_FUNCTION': return self.cur.split()[1]\n",
    "        if self.commandType() == 'C_CALL': return self.cur.split()[1]\n",
    "    \n",
    "    def arg2(self):\n",
    "        if self.commandType() == 'C_PUSH': return self.cur.split()[2]\n",
    "        if self.commandType() == 'C_POP': return self.cur.split()[2]\n",
    "        if self.commandType() == 'C_FUNCTION': return self.cur.split()[2]\n",
    "        if self.commandType() == 'C_CALL': return self.cur.split()[2]            "
   ]
  },
  {
   "cell_type": "code",
   "execution_count": null,
   "metadata": {},
   "outputs": [],
   "source": []
  }
 ],
 "metadata": {
  "kernelspec": {
   "display_name": "Python 3",
   "language": "python",
   "name": "python3"
  },
  "language_info": {
   "codemirror_mode": {
    "name": "ipython",
    "version": 3
   },
   "file_extension": ".py",
   "mimetype": "text/x-python",
   "name": "python",
   "nbconvert_exporter": "python",
   "pygments_lexer": "ipython3",
   "version": "3.6.5"
  }
 },
 "nbformat": 4,
 "nbformat_minor": 2
}
