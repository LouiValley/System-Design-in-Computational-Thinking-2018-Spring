{
 "cells": [
  {
   "cell_type": "code",
   "execution_count": 182,
   "metadata": {},
   "outputs": [],
   "source": [
    "import re\n",
    "import os"
   ]
  },
  {
   "cell_type": "code",
   "execution_count": 183,
   "metadata": {},
   "outputs": [],
   "source": [
    "def init(input):\n",
    "    list_fp = []\n",
    "    list_name = []\n",
    "    if '.' in input:\n",
    "        if re.search('.vm$',input):\n",
    "            try:\n",
    "                list_fp.append(open(input,'r'))\n",
    "                list_name.append(input.split('.')[0])\n",
    "            except IOError as e:\n",
    "                print('No VM file found!')\n",
    "    else:\n",
    "        try:\n",
    "            dirList = os.listdir(input)\n",
    "            for each in dirList:\n",
    "                if re.search('.vm$',each):\n",
    "                    list_fp.append(open(input + '/' + each,'r'))\n",
    "                    list_name.append((input + '/' + each).split('.')[0])\n",
    "        except IOError as e:\n",
    "            print('No VM file found!')\n",
    "    return list_fp,list_name"
   ]
  },
  {
   "cell_type": "code",
   "execution_count": 184,
   "metadata": {},
   "outputs": [
    {
     "data": {
      "text/plain": [
       "([<_io.TextIOWrapper name='test.vm' mode='r' encoding='cp936'>], ['test'])"
      ]
     },
     "execution_count": 184,
     "metadata": {},
     "output_type": "execute_result"
    }
   ],
   "source": [
    "#test\n",
    "init('test.vm')"
   ]
  },
  {
   "cell_type": "code",
   "execution_count": 185,
   "metadata": {},
   "outputs": [
    {
     "data": {
      "text/plain": [
       "['BasicTest.asm',\n",
       " 'BasicTest.vm',\n",
       " 'PointerTest.asm',\n",
       " 'PointerTest.vm',\n",
       " 'SimpleAdd.asm',\n",
       " 'SimpleAdd.vm',\n",
       " 'StackTest.asm',\n",
       " 'StackTest.vm',\n",
       " 'StaticTest.asm',\n",
       " 'StaticTest.vm',\n",
       " 'test1.asm',\n",
       " 'test1.vm',\n",
       " 'test2.asm',\n",
       " 'test2.vm',\n",
       " 'test3.asm',\n",
       " 'test3.vm']"
      ]
     },
     "execution_count": 185,
     "metadata": {},
     "output_type": "execute_result"
    }
   ],
   "source": [
    "os.listdir('test')"
   ]
  },
  {
   "cell_type": "code",
   "execution_count": 186,
   "metadata": {},
   "outputs": [
    {
     "data": {
      "text/plain": [
       "([<_io.TextIOWrapper name='test/BasicTest.vm' mode='r' encoding='cp936'>,\n",
       "  <_io.TextIOWrapper name='test/PointerTest.vm' mode='r' encoding='cp936'>,\n",
       "  <_io.TextIOWrapper name='test/SimpleAdd.vm' mode='r' encoding='cp936'>,\n",
       "  <_io.TextIOWrapper name='test/StackTest.vm' mode='r' encoding='cp936'>,\n",
       "  <_io.TextIOWrapper name='test/StaticTest.vm' mode='r' encoding='cp936'>,\n",
       "  <_io.TextIOWrapper name='test/test1.vm' mode='r' encoding='cp936'>,\n",
       "  <_io.TextIOWrapper name='test/test2.vm' mode='r' encoding='cp936'>,\n",
       "  <_io.TextIOWrapper name='test/test3.vm' mode='r' encoding='cp936'>],\n",
       " ['test/BasicTest',\n",
       "  'test/PointerTest',\n",
       "  'test/SimpleAdd',\n",
       "  'test/StackTest',\n",
       "  'test/StaticTest',\n",
       "  'test/test1',\n",
       "  'test/test2',\n",
       "  'test/test3'])"
      ]
     },
     "execution_count": 186,
     "metadata": {},
     "output_type": "execute_result"
    }
   ],
   "source": [
    "init('test')"
   ]
  },
  {
   "cell_type": "code",
   "execution_count": 187,
   "metadata": {},
   "outputs": [
    {
     "name": "stdout",
     "output_type": "stream",
     "text": [
      "No VM file found!\n"
     ]
    },
    {
     "data": {
      "text/plain": [
       "([], [])"
      ]
     },
     "execution_count": 187,
     "metadata": {},
     "output_type": "execute_result"
    }
   ],
   "source": [
    "init('abc')"
   ]
  },
  {
   "cell_type": "code",
   "execution_count": 188,
   "metadata": {},
   "outputs": [],
   "source": [
    "class Parser:\n",
    "    def __init__(self,fp):\n",
    "        self.fp = fp\n",
    "        self.flag = True\n",
    "        self.count = 0\n",
    "        self.algorithm_list = ['add','sub','neg','eq','gt','lt','and','or','not']\n",
    "        \n",
    "    def hasMoreCommands(self):\n",
    "        self.line = self.fp.readline()\n",
    "        if self.line :return True\n",
    "        else:\n",
    "            self.flag = False\n",
    "            return False\n",
    "\n",
    "    def advance(self):\n",
    "        if self.hasMoreCommands():\n",
    "            self.cur = self.line.strip().split('//')[0].strip()\n",
    "            self.segments = self.cur.split()\n",
    "            while len(self.cur)== 0 or self.cur[0] == '//': self.advance()\n",
    "                \n",
    "    def commandType(self):\n",
    "        judge = [each for each in self.algorithm_list if each in self.segments]\n",
    "        if len(judge): return 'C_ARITHMETIC'\n",
    "        if 'push' in self.segments: return 'C_PUSH'\n",
    "        if 'pop' in self.segments: return 'C_POP'\n",
    "        if 'label' in self.segments: return 'C_LABEL'\n",
    "        if 'if-goto' in self.segments: return 'C_IF'\n",
    "        if 'goto'  in self.segments: return 'C_GOTO'\n",
    "        if 'function' in self.segments: return 'C_FUNCTION'\n",
    "        if 'return' in self.segments: return 'C_RETURN'\n",
    "        if 'call' in self.segments: return 'C_CALL'\n",
    "    \n",
    "    def arg1(self):\n",
    "        if self.commandType() == 'C_ARITHMETIC': return self.cur\n",
    "        if self.commandType() == 'C_PUSH': return self.segments[1]\n",
    "        if self.commandType() == 'C_POP': return self.segments[1]\n",
    "        if self.commandType() == 'C_LABEL': return self.segments[1]\n",
    "        if self.commandType() == 'C_IF': return self.segments[1]\n",
    "        if self.commandType() == 'C_GOTO': return self.segments[1]\n",
    "        if self.commandType() == 'C_FUNCTION': return self.segments[1]\n",
    "        if self.commandType() == 'C_CALL': return self.segments[1]\n",
    "    \n",
    "    def arg2(self):\n",
    "        if self.commandType() == 'C_PUSH': return self.segments[2]\n",
    "        if self.commandType() == 'C_POP': return self.segments[2]\n",
    "        if self.commandType() == 'C_FUNCTION': return self.segments[2]\n",
    "        if self.commandType() == 'C_CALL': return self.segments[2]    "
   ]
  },
  {
   "cell_type": "code",
   "execution_count": 189,
   "metadata": {},
   "outputs": [
    {
     "name": "stdout",
     "output_type": "stream",
     "text": [
      "function mult 2\n",
      "push constant 0\n",
      "pop local 0\n",
      "push argument 1\n",
      "pop local 1\n",
      "label loop\n",
      "push constant 0\n",
      "push loacal 1\n",
      "eq\n",
      "if-goto end\n",
      "push loacl 0\n",
      "push argument 0\n",
      "add\n",
      "pop local 0\n",
      "push local 1\n",
      "push constant 1\n",
      "sub\n",
      "pop local 1\n",
      "goto loop\n",
      "label end\n",
      "push local 0\n",
      "return\n"
     ]
    }
   ],
   "source": [
    "#test\n",
    "list_fp,list_name = init('test.vm')\n",
    "mypsr = Parser(list_fp[0])\n",
    "while mypsr.flag:\n",
    "    mypsr.advance()\n",
    "    if mypsr.flag:\n",
    "        print(mypsr.cur)\n",
    "mypsr.fp.close()"
   ]
  },
  {
   "cell_type": "code",
   "execution_count": 190,
   "metadata": {},
   "outputs": [
    {
     "name": "stdout",
     "output_type": "stream",
     "text": [
      "function mult 2 $ C_FUNCTION $ mult $ 2\n",
      "push constant 0 $ C_PUSH $ constant $ 0\n",
      "pop local 0 $ C_POP $ local $ 0\n",
      "push argument 1 $ C_PUSH $ argument $ 1\n",
      "pop local 1 $ C_POP $ local $ 1\n",
      "label loop $ C_LABEL $ loop $ None\n",
      "push constant 0 $ C_PUSH $ constant $ 0\n",
      "push loacal 1 $ C_PUSH $ loacal $ 1\n",
      "eq $ C_ARITHMETIC $ eq $ None\n",
      "if-goto end $ C_IF $ end $ None\n",
      "push loacl 0 $ C_PUSH $ loacl $ 0\n",
      "push argument 0 $ C_PUSH $ argument $ 0\n",
      "add $ C_ARITHMETIC $ add $ None\n",
      "pop local 0 $ C_POP $ local $ 0\n",
      "push local 1 $ C_PUSH $ local $ 1\n",
      "push constant 1 $ C_PUSH $ constant $ 1\n",
      "sub $ C_ARITHMETIC $ sub $ None\n",
      "pop local 1 $ C_POP $ local $ 1\n",
      "goto loop $ C_GOTO $ loop $ None\n",
      "label end $ C_LABEL $ end $ None\n",
      "push local 0 $ C_PUSH $ local $ 0\n",
      "return $ C_RETURN $ None $ None\n"
     ]
    }
   ],
   "source": [
    "#test\n",
    "list_fp,list_name = init('test.vm')\n",
    "mypsr = Parser(list_fp[0])\n",
    "while mypsr.flag:\n",
    "    mypsr.advance()\n",
    "    if mypsr.flag:\n",
    "        print(mypsr.cur,'$',mypsr.commandType(),'$',mypsr.arg1(),'$',mypsr.arg2())\n",
    "mypsr.fp.close()"
   ]
  },
  {
   "cell_type": "code",
   "execution_count": 194,
   "metadata": {},
   "outputs": [],
   "source": [
    "class CodeWriter:\n",
    "    def __init__(self,name):\n",
    "        self.fw = open(name + '.asm', 'w')\n",
    "        self.count = 0\n",
    "        nameList = name.split('/')\n",
    "        if len(nameList) == 1:self.name = nameList[0]\n",
    "        else:self.name = nameList[0] + '_' + nameList[1]\n",
    "        \n",
    "    '''\n",
    "    def setFileName(filename)\n",
    "        pass\n",
    "    '''\n",
    "    \n",
    "    def writeArithmetic(self,Command):\n",
    "        if Command == 'add': self.fw.write('@SP\\nM=M-1\\nA=M\\nD=M\\n@SP\\nM=M-1\\nA=M\\nM=D+M\\n@SP\\nM=M+1\\n')\n",
    "        if Command == 'sub': self.fw.write('@SP\\nM=M-1\\nA=M\\nD=M\\n@SP\\nM=M-1\\nA=M\\nM=M-D\\n@SP\\nM=M+1\\n')\n",
    "        if Command == 'neg': self.fw.write('@SP\\nM=M-1\\nA=M\\nM=-M\\n@SP\\nM=M+1\\n')\n",
    "        if Command == 'and': self.fw.write('@SP\\nM=M-1\\nA=M\\nD=M\\n@SP\\nM=M-1\\nA=M\\nM=D&M\\n@SP\\nM=M+1\\n')\n",
    "        if Command == 'or': self.fw.write('@SP\\nM=M-1\\nA=M\\nD=M\\n@SP\\nM=M-1\\nA=M\\nM=D|M\\n@SP\\nM=M+1\\n')\n",
    "        if Command == 'not': self.fw.write('@SP\\nM=M-1\\nA=M\\nM=!M\\n@SP\\nM=M+1')\n",
    "        if Command == 'eq': \n",
    "            self.fw.write('@SP\\nM=M-1\\nA=M\\nD=M\\n@SP\\nM=M-1\\nA=M\\nD=M-D\\n@EQ' + str(self.count) \\\n",
    "                                          + '\\nD;JEQ\\n@SP\\nA=M\\nM=0\\n@CONTINUE' + str(self.count) + '\\n0;JMP\\n(EQ' + str(self.count) \\\n",
    "                                          + ')\\n@SP\\nA=M\\nM=-1\\n(CONTINUE' + str(self.count) + ')\\n@SP\\nM=M+1\\n' )\n",
    "            self.count += 1\n",
    "        if Command == 'gt': \n",
    "            self.fw.write('@SP\\nM=M-1\\nA=M\\nD=M\\n@SP\\nM=M-1\\nA=M\\nD=M-D\\n@GT' + str(self.count) \\\n",
    "                                          + '\\nD;JGT\\n@SP\\nA=M\\nM=0\\n@CONTINUE' + str(self.count) + '\\n0;JMP\\n(GT' + str(self.count) \\\n",
    "                                          + ')\\n@SP\\nA=M\\nM=-1\\n(CONTINUE' + str(self.count) + ')\\n@SP\\nM=M+1\\n' )\n",
    "            self.count += 1\n",
    "        if Command == 'lt': \n",
    "            self.fw.write('@SP\\nM=M-1\\nA=M\\nD=M\\n@SP\\nM=M-1\\nA=M\\nD=M-D\\n@LT' + str(self.count) \\\n",
    "                                          + '\\nD;JLT\\n@SP\\nA=M\\nM=0\\n@CONTINUE' + str(self.count) + '\\n0;JMP\\n(LT' + str(self.count) \\\n",
    "                                          + ')\\n@SP\\nA=M\\nM=-1\\n(CONTINUE' + str(self.count) + ')\\n@SP\\nM=M+1\\n' )\n",
    "            self.count += 1\n",
    "    \n",
    "    def writePushPop(self,Command,segment,index):\n",
    "        if segment == 'constant':\n",
    "            if Command == 'C_PUSH':self.fw.write('@' + index + '\\nD=A\\n@SP\\nA=M\\nM=D\\n@SP\\nM=M+1\\n')\n",
    "                \n",
    "        if segment == 'argument':\n",
    "            if Command == 'C_PUSH':self.fw.write('@' + index + '\\nD=A\\n@ARG\\nA=M+D\\nD=M\\n@SP\\nA=M\\nM=D\\n@SP\\nM=M+1\\n')\n",
    "            if Command == 'C_POP':\n",
    "                self.fw.write('@SP\\nM=M-1\\nA=M\\nD=M\\n@ARG\\nA=M\\n')\n",
    "                for i in range(int(index)):\n",
    "                    self.fw.write('A=A+1\\n')\n",
    "                self.fw.write('M=M+D\\n')\n",
    "        if segment == 'local':\n",
    "            if Command == 'C_PUSH':self.fw.write('@' + index + '\\nD=A\\n@LCL\\nA=M+D\\nD=M\\n@SP\\nA=M\\nM=D\\n@SP\\nM=M+1\\n')\n",
    "            if Command == 'C_POP':\n",
    "                self.fw.write('@SP\\nM=M-1\\nA=M\\nD=M\\n@LCL\\nA=M\\n')\n",
    "                for i in range(int(index)):\n",
    "                    self.fw.write('A=A+1\\n')\n",
    "                self.fw.write('M=D\\n')        \n",
    "        if segment == 'temp':\n",
    "            if Command == 'C_PUSH':self.fw.write('@' + index + '\\nD=A\\n@R5\\nA=M+D\\nD=M\\n@SP\\nA=M\\nM=D\\n@SP\\nM=M+1\\n')\n",
    "            if Command == 'C_POP':\n",
    "                self.fw.write('@SP\\nM=M-1\\nA=M\\nD=M\\n@R5\\nA=M\\n')\n",
    "                for i in range(int(index)):\n",
    "                    self.fw.write('A=A+1\\n')\n",
    "                self.fw.write('M=D\\n')        \n",
    "        if segment == 'this':\n",
    "            if Command == 'C_PUSH':self.fw.write('@' + index + '\\nD=A\\n@THIS\\nA=M+D\\nD=M\\n@SP\\nA=M\\nM=D\\n@SP\\nM=M+1\\n')\n",
    "            if Command == 'C_POP':\n",
    "                self.fw.write('@SP\\nM=M-1\\nA=M\\nD=M\\n@THIS\\nA=M\\n')\n",
    "                for i in range(int(index)):\n",
    "                    self.fw.write('A=A+1\\n')\n",
    "                self.fw.write('M=D\\n')\n",
    "        if segment == 'that':\n",
    "            if Command == 'C_PUSH':self.fw.write('@' + index + '\\nD=A\\n@THAT\\nA=M+D\\nD=M\\n@SP\\nA=M\\nM=D\\n@SP\\nM=M+1\\n')\n",
    "            if Command == 'C_POP':\n",
    "                self.fw.write('@SP\\nM=M-1\\nA=M\\nD=M\\n@THAT\\nA=M\\n')\n",
    "                for i in range(int(index)):\n",
    "                    self.fw.write('A=A+1\\n')\n",
    "                self.fw.write('M=D\\n')\n",
    "        if segment == 'pointer':\n",
    "            if Command == 'C_PUSH':\n",
    "                if index == '0': self.fw.write('@THIS\\nD=M\\n@SP\\nA=M\\nM=D\\n@SP\\nM=M+1\\n')\n",
    "                if index == '1': self.fw.write('@THAT\\nD=M\\n@SP\\nA=M\\nM=D\\n@SP\\nM=M+1\\n')\n",
    "            if Command == 'C_POP':\n",
    "                if index == '0': self.fw.write('@SP\\nM=M-1\\nA=M\\nD=M\\n@THIS\\nM=D\\n')\n",
    "                if index == '1': self.fw.write('@SP\\nM=M-1\\nA=M\\nD=M\\n@THAT\\nM=D\\n')\n",
    "        if segment == 'static':\n",
    "            if Command == 'C_PUSH':\n",
    "                self.fw.write('@' + self.name + '.' + index + '\\nD=M\\n@SP\\nA=M\\nM=D\\n@SP\\nM=M+1\\n')\n",
    "            if Command == 'C_POP':\n",
    "                self.fw.write('@SP\\nM=M-1\\nA=M\\nD=M\\n@' + self.name + '.' + index + '\\nM=D\\n')\n",
    "    def close(self):\n",
    "        self.fw.close()\n",
    "        \n"
   ]
  },
  {
   "cell_type": "code",
   "execution_count": 195,
   "metadata": {},
   "outputs": [],
   "source": [
    "#test\n",
    "list_fp,list_name = init('test.vm')\n",
    "mypsr = Parser(list_fp[0])\n",
    "mycoder = CodeWriter(list_name[0])\n",
    "while mypsr.flag:\n",
    "    mypsr.advance()\n",
    "    if mypsr.flag:\n",
    "        if mypsr.commandType() == 'C_ARITHMETIC': mycoder.writeArithmetic(mypsr.arg1())\n",
    "        if mypsr.commandType() == 'C_PUSH' or 'C_POP': mycoder.writePushPop(mypsr.commandType(),mypsr.arg1(),mypsr.arg2())\n",
    "mypsr.fp.close()\n",
    "mycoder.close()"
   ]
  },
  {
   "cell_type": "code",
   "execution_count": 196,
   "metadata": {},
   "outputs": [
    {
     "name": "stdout",
     "output_type": "stream",
     "text": [
      "test_BasicTest\n",
      "test_PointerTest\n",
      "test_SimpleAdd\n",
      "test_StackTest\n",
      "test_StaticTest\n",
      "test_test1\n",
      "test_test2\n",
      "test_test3\n"
     ]
    }
   ],
   "source": [
    "#application\n",
    "list_fp,list_name = init('test')\n",
    "for i in range(len(list_fp)):\n",
    "    mypsr = Parser(list_fp[i])\n",
    "    mycoder = CodeWriter(list_name[i])\n",
    "    print(mycoder.name)\n",
    "    while mypsr.flag:\n",
    "        mypsr.advance()\n",
    "        if mypsr.flag:\n",
    "            if mypsr.commandType() == 'C_ARITHMETIC': mycoder.writeArithmetic(mypsr.arg1())\n",
    "            if mypsr.commandType() == 'C_PUSH' or 'C_POP': mycoder.writePushPop(mypsr.commandType(),mypsr.arg1(),mypsr.arg2())\n",
    "    mypsr.fp.close()\n",
    "    mycoder.close()"
   ]
  },
  {
   "cell_type": "code",
   "execution_count": 3,
   "metadata": {},
   "outputs": [],
   "source": [
    "def main():\n",
    "    instruction = input()\n",
    "    source = instruction.split()[-1]\n",
    "    if re.match('$Prompt> Vmtranslator',instruction):\n",
    "        list_fp,list_name = init(source)\n",
    "        for i in range(len(list_fp)):\n",
    "            mypsr = Parser(list_fp[i])\n",
    "            mycoder = CodeWriter(list_name[i])\n",
    "            print(mycoder.name)\n",
    "            while mypsr.flag:\n",
    "                mypsr.advance()\n",
    "                if mypsr.flag:\n",
    "                    if mypsr.commandType() == 'C_ARITHMETIC': mycoder.writeArithmetic(mypsr.arg1())\n",
    "                    if mypsr.commandType() == 'C_PUSH' or 'C_POP': mycoder.writePushPop(mypsr.commandType(),mypsr.arg1(),mypsr.arg2())\n",
    "            mypsr.fp.close()\n",
    "            mycoder.close()    "
   ]
  },
  {
   "cell_type": "code",
   "execution_count": null,
   "metadata": {},
   "outputs": [],
   "source": []
  }
 ],
 "metadata": {
  "kernelspec": {
   "display_name": "Python 3",
   "language": "python",
   "name": "python3"
  },
  "language_info": {
   "codemirror_mode": {
    "name": "ipython",
    "version": 3
   },
   "file_extension": ".py",
   "mimetype": "text/x-python",
   "name": "python",
   "nbconvert_exporter": "python",
   "pygments_lexer": "ipython3",
   "version": "3.6.5"
  }
 },
 "nbformat": 4,
 "nbformat_minor": 2
}
